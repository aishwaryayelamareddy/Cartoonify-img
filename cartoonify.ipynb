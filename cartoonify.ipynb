{
 "cells": [
  {
   "cell_type": "code",
   "execution_count": null,
   "metadata": {},
   "outputs": [],
   "source": [
    "import cv2\n",
    "import  numpy as np\n",
    "from tkinter.filedialog import *\n",
    "\n",
    "photo = askopenfilename()\n",
    "img=cv2.imread(photo)\n",
    "\n",
    "grey=cv2.cvtColor(img, cv2.COLOR_BGR2GRAY)\n",
    "grey=cv2.medianBlur(grey,5)\n",
    "edges=cv2.adaptiveThreshold(grey,255,cv2.ADAPTIVE_THRESH_MEAN_C,cv2.THRESH_BINARY,9,9)\n",
    "color= cv2.bilateralFilter(img,9,250,250)\n",
    "cartoon=cv2.bitwise_and(color,color,mask=edges)\n",
    "cv2.imshow(\"Image\",img)\n",
    "cv2.imshow(\"Cartoon\",cartoon)\n",
    "\n",
    "cv2.imwrite(\"Cartoon.jpg\",cartoon)\n",
    "cv2.waitKey(0)\n",
    "cv2.destroyAllWindows()"
   ]
  },
  {
   "cell_type": "code",
   "execution_count": null,
   "metadata": {},
   "outputs": [],
   "source": []
  },
  {
   "cell_type": "code",
   "execution_count": null,
   "metadata": {},
   "outputs": [],
   "source": [
    "\n"
   ]
  }
 ],
 "metadata": {
  "kernelspec": {
   "display_name": "Python 3 (ipykernel)",
   "language": "python",
   "name": "python3"
  },
  "language_info": {
   "codemirror_mode": {
    "name": "ipython",
    "version": 3
   },
   "file_extension": ".py",
   "mimetype": "text/x-python",
   "name": "python",
   "nbconvert_exporter": "python",
   "pygments_lexer": "ipython3",
   "version": "3.10.9"
  }
 },
 "nbformat": 4,
 "nbformat_minor": 2
}
